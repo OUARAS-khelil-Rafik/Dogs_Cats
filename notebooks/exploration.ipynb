{
 "cells": [
  {
   "cell_type": "code",
   "execution_count": null,
   "metadata": {},
   "outputs": [],
   "source": [
    "import os\n",
    "import matplotlib.pyplot as plt\n",
    "from tensorflow.keras.preprocessing.image import load_img, img_to_array\n",
    "\n",
    "# Chemin des données\n",
    "train_dir = 'data/train'\n",
    "\n",
    "# Afficher quelques exemples d'images de chats et de chiens\n",
    "fig, ax = plt.subplots(2, 5, figsize=(15, 6))\n",
    "categories = ['cats', 'dogs']\n",
    "for i, category in enumerate(categories):\n",
    "    category_path = os.path.join(train_dir, category)\n",
    "    images = os.listdir(category_path)[:5]\n",
    "    for j, img_name in enumerate(images):\n",
    "        img_path = os.path.join(category_path, img_name)\n",
    "        img = load_img(img_path, target_size=(150, 150))\n",
    "        ax[i, j].imshow(img)\n",
    "        ax[i, j].axis('off')\n",
    "        ax[i, j].set_title(f\"{category} {j}\")\n",
    "plt.show()"
   ]
  }
 ],
 "metadata": {
  "kernelspec": {
   "display_name": "Python 3",
   "language": "python",
   "name": "python3"
  },
  "language_info": {
   "name": "python",
   "version": "3.12.2"
  }
 },
 "nbformat": 4,
 "nbformat_minor": 2
}
